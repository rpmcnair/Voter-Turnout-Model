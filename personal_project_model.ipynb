{
 "cells": [
  {
   "cell_type": "code",
   "execution_count": 2,
   "id": "7447752f",
   "metadata": {},
   "outputs": [
    {
     "name": "stderr",
     "output_type": "stream",
     "text": [
      "\u001b[1mRows: \u001b[22m\u001b[34m50\u001b[39m \u001b[1mColumns: \u001b[22m\u001b[34m9\u001b[39m\n",
      "\u001b[36m──\u001b[39m \u001b[1mColumn specification\u001b[22m \u001b[36m────────────────────────────────────────────────────────\u001b[39m\n",
      "\u001b[1mDelimiter:\u001b[22m \",\"\n",
      "\u001b[31mchr\u001b[39m (1): voted_2020\n",
      "\u001b[32mdbl\u001b[39m (8): state, protests_per_100k, polarization_var, diversity_index, educat...\n",
      "\n",
      "\u001b[36mℹ\u001b[39m Use `spec()` to retrieve the full column specification for this data.\n",
      "\u001b[36mℹ\u001b[39m Specify the column types or set `show_col_types = FALSE` to quiet this message.\n"
     ]
    },
    {
     "data": {
      "text/html": [
       "<table class=\"dataframe\">\n",
       "<caption>A tibble: 6 × 9</caption>\n",
       "<thead>\n",
       "\t<tr><th scope=col>state</th><th scope=col>voted_2020</th><th scope=col>protests_per_100k</th><th scope=col>polarization_var</th><th scope=col>diversity_index</th><th scope=col>education_index</th><th scope=col>economic_index</th><th scope=col>voter_turnout_2020</th><th scope=col>voter_turnout_2016</th></tr>\n",
       "\t<tr><th scope=col>&lt;dbl&gt;</th><th scope=col>&lt;chr&gt;</th><th scope=col>&lt;dbl&gt;</th><th scope=col>&lt;dbl&gt;</th><th scope=col>&lt;dbl&gt;</th><th scope=col>&lt;dbl&gt;</th><th scope=col>&lt;dbl&gt;</th><th scope=col>&lt;dbl&gt;</th><th scope=col>&lt;dbl&gt;</th></tr>\n",
       "</thead>\n",
       "<tbody>\n",
       "\t<tr><td>1</td><td>Republican</td><td> 7.284627</td><td>0.13333237</td><td>53.1</td><td>63.93333</td><td>78.68990</td><td>0.6146</td><td>0.5912</td></tr>\n",
       "\t<tr><td>2</td><td>Republican</td><td> 9.135645</td><td>0.02205297</td><td>62.8</td><td>70.33333</td><td>89.14633</td><td>0.6823</td><td>0.6156</td></tr>\n",
       "\t<tr><td>4</td><td>Democrat  </td><td> 6.180520</td><td>0.19872212</td><td>61.5</td><td>65.83333</td><td>83.62785</td><td>0.6663</td><td>0.5597</td></tr>\n",
       "\t<tr><td>5</td><td>Republican</td><td> 6.740773</td><td>0.08151470</td><td>49.8</td><td>63.16667</td><td>76.76303</td><td>0.5617</td><td>0.5311</td></tr>\n",
       "\t<tr><td>6</td><td>Democrat  </td><td>13.905531</td><td>0.53408166</td><td>69.7</td><td>64.16667</td><td>87.07850</td><td>0.6883</td><td>0.5831</td></tr>\n",
       "\t<tr><td>8</td><td>Democrat  </td><td> 7.707344</td><td>0.16659249</td><td>52.3</td><td>73.80000</td><td>89.97153</td><td>0.7669</td><td>0.7199</td></tr>\n",
       "</tbody>\n",
       "</table>\n"
      ],
      "text/latex": [
       "A tibble: 6 × 9\n",
       "\\begin{tabular}{lllllllll}\n",
       " state & voted\\_2020 & protests\\_per\\_100k & polarization\\_var & diversity\\_index & education\\_index & economic\\_index & voter\\_turnout\\_2020 & voter\\_turnout\\_2016\\\\\n",
       " <dbl> & <chr> & <dbl> & <dbl> & <dbl> & <dbl> & <dbl> & <dbl> & <dbl>\\\\\n",
       "\\hline\n",
       "\t 1 & Republican &  7.284627 & 0.13333237 & 53.1 & 63.93333 & 78.68990 & 0.6146 & 0.5912\\\\\n",
       "\t 2 & Republican &  9.135645 & 0.02205297 & 62.8 & 70.33333 & 89.14633 & 0.6823 & 0.6156\\\\\n",
       "\t 4 & Democrat   &  6.180520 & 0.19872212 & 61.5 & 65.83333 & 83.62785 & 0.6663 & 0.5597\\\\\n",
       "\t 5 & Republican &  6.740773 & 0.08151470 & 49.8 & 63.16667 & 76.76303 & 0.5617 & 0.5311\\\\\n",
       "\t 6 & Democrat   & 13.905531 & 0.53408166 & 69.7 & 64.16667 & 87.07850 & 0.6883 & 0.5831\\\\\n",
       "\t 8 & Democrat   &  7.707344 & 0.16659249 & 52.3 & 73.80000 & 89.97153 & 0.7669 & 0.7199\\\\\n",
       "\\end{tabular}\n"
      ],
      "text/markdown": [
       "\n",
       "A tibble: 6 × 9\n",
       "\n",
       "| state &lt;dbl&gt; | voted_2020 &lt;chr&gt; | protests_per_100k &lt;dbl&gt; | polarization_var &lt;dbl&gt; | diversity_index &lt;dbl&gt; | education_index &lt;dbl&gt; | economic_index &lt;dbl&gt; | voter_turnout_2020 &lt;dbl&gt; | voter_turnout_2016 &lt;dbl&gt; |\n",
       "|---|---|---|---|---|---|---|---|---|\n",
       "| 1 | Republican |  7.284627 | 0.13333237 | 53.1 | 63.93333 | 78.68990 | 0.6146 | 0.5912 |\n",
       "| 2 | Republican |  9.135645 | 0.02205297 | 62.8 | 70.33333 | 89.14633 | 0.6823 | 0.6156 |\n",
       "| 4 | Democrat   |  6.180520 | 0.19872212 | 61.5 | 65.83333 | 83.62785 | 0.6663 | 0.5597 |\n",
       "| 5 | Republican |  6.740773 | 0.08151470 | 49.8 | 63.16667 | 76.76303 | 0.5617 | 0.5311 |\n",
       "| 6 | Democrat   | 13.905531 | 0.53408166 | 69.7 | 64.16667 | 87.07850 | 0.6883 | 0.5831 |\n",
       "| 8 | Democrat   |  7.707344 | 0.16659249 | 52.3 | 73.80000 | 89.97153 | 0.7669 | 0.7199 |\n",
       "\n"
      ],
      "text/plain": [
       "  state voted_2020 protests_per_100k polarization_var diversity_index\n",
       "1 1     Republican  7.284627         0.13333237       53.1           \n",
       "2 2     Republican  9.135645         0.02205297       62.8           \n",
       "3 4     Democrat    6.180520         0.19872212       61.5           \n",
       "4 5     Republican  6.740773         0.08151470       49.8           \n",
       "5 6     Democrat   13.905531         0.53408166       69.7           \n",
       "6 8     Democrat    7.707344         0.16659249       52.3           \n",
       "  education_index economic_index voter_turnout_2020 voter_turnout_2016\n",
       "1 63.93333        78.68990       0.6146             0.5912            \n",
       "2 70.33333        89.14633       0.6823             0.6156            \n",
       "3 65.83333        83.62785       0.6663             0.5597            \n",
       "4 63.16667        76.76303       0.5617             0.5311            \n",
       "5 64.16667        87.07850       0.6883             0.5831            \n",
       "6 73.80000        89.97153       0.7669             0.7199            "
      ]
     },
     "metadata": {},
     "output_type": "display_data"
    }
   ],
   "source": [
    "#Import Libraries and Data Set \n",
    "library(readr)   \n",
    "library(dplyr)   \n",
    "library(ggplot2) \n",
    "library(reshape2)\n",
    "library(tidyverse)\n",
    "library(GGally)\n",
    "library(reshape2)\n",
    "library(glmnet)\n",
    "library(tidymodels)\n",
    "library(jsonlite)\n",
    "library(repr)\n",
    "library(leaps)\n",
    "\n",
    "state_variable_data <- read_csv(\"state_variable_data.csv\")\n",
    "head(state_variable_data)\n",
    "\n",
    "#filter numeric data \n",
    "numeric_data <- state_variable_data |>\n",
    "  select_if(is.numeric)\n",
    "  \n",
    "numeric_data <- numeric_data |>\n",
    "    select(-state, protests_per_100k, protests_per_100k, diversity_index, education_index, \n",
    "           economic_index, voter_turnout_2020, voter_turnout_2016)\n"
   ]
  },
  {
   "cell_type": "code",
   "execution_count": 3,
   "id": "13cfd1d9",
   "metadata": {},
   "outputs": [
    {
     "name": "stderr",
     "output_type": "stream",
     "text": [
      "Warning message:\n",
      "“The number of observations in each quantile is below the recommended threshold of 20.\n",
      "\u001b[36m•\u001b[39m Stratification will use 2 breaks instead.”\n"
     ]
    },
    {
     "name": "stdout",
     "output_type": "stream",
     "text": [
      "Table 3: The test MSE for the 10 cross-validation fold for the best ith variable model"
     ]
    },
    {
     "data": {
      "text/html": [
       "<table class=\"dataframe\">\n",
       "<caption>A matrix: 3 × 6 of type dbl</caption>\n",
       "<thead>\n",
       "\t<tr><th scope=col>1</th><th scope=col>2</th><th scope=col>3</th><th scope=col>4</th><th scope=col>5</th><th scope=col>6</th></tr>\n",
       "</thead>\n",
       "<tbody>\n",
       "\t<tr><td>8.597222e-05</td><td>8.055636e-05</td><td>7.144142e-05</td><td>7.531725e-05</td><td>9.604159e-05</td><td>7.991231e-05</td></tr>\n",
       "\t<tr><td>3.635106e-04</td><td>1.088307e-03</td><td>1.604043e-03</td><td>1.732824e-03</td><td>1.695855e-03</td><td>2.131820e-03</td></tr>\n",
       "\t<tr><td>9.633647e-04</td><td>9.195281e-04</td><td>2.922014e-04</td><td>2.533677e-04</td><td>2.818162e-04</td><td>4.792750e-04</td></tr>\n",
       "</tbody>\n",
       "</table>\n"
      ],
      "text/latex": [
       "A matrix: 3 × 6 of type dbl\n",
       "\\begin{tabular}{llllll}\n",
       " 1 & 2 & 3 & 4 & 5 & 6\\\\\n",
       "\\hline\n",
       "\t 8.597222e-05 & 8.055636e-05 & 7.144142e-05 & 7.531725e-05 & 9.604159e-05 & 7.991231e-05\\\\\n",
       "\t 3.635106e-04 & 1.088307e-03 & 1.604043e-03 & 1.732824e-03 & 1.695855e-03 & 2.131820e-03\\\\\n",
       "\t 9.633647e-04 & 9.195281e-04 & 2.922014e-04 & 2.533677e-04 & 2.818162e-04 & 4.792750e-04\\\\\n",
       "\\end{tabular}\n"
      ],
      "text/markdown": [
       "\n",
       "A matrix: 3 × 6 of type dbl\n",
       "\n",
       "| 1 | 2 | 3 | 4 | 5 | 6 |\n",
       "|---|---|---|---|---|---|\n",
       "| 8.597222e-05 | 8.055636e-05 | 7.144142e-05 | 7.531725e-05 | 9.604159e-05 | 7.991231e-05 |\n",
       "| 3.635106e-04 | 1.088307e-03 | 1.604043e-03 | 1.732824e-03 | 1.695855e-03 | 2.131820e-03 |\n",
       "| 9.633647e-04 | 9.195281e-04 | 2.922014e-04 | 2.533677e-04 | 2.818162e-04 | 4.792750e-04 |\n",
       "\n"
      ],
      "text/plain": [
       "     1            2            3            4            5           \n",
       "[1,] 8.597222e-05 8.055636e-05 7.144142e-05 7.531725e-05 9.604159e-05\n",
       "[2,] 3.635106e-04 1.088307e-03 1.604043e-03 1.732824e-03 1.695855e-03\n",
       "[3,] 9.633647e-04 9.195281e-04 2.922014e-04 2.533677e-04 2.818162e-04\n",
       "     6           \n",
       "[1,] 7.991231e-05\n",
       "[2,] 2.131820e-03\n",
       "[3,] 4.792750e-04"
      ]
     },
     "metadata": {},
     "output_type": "display_data"
    }
   ],
   "source": [
    "set.seed(123)\n",
    "# Making the Model. We first split the data into training and testing sets\n",
    "\n",
    "turnout_split <- initial_split(numeric_data, prop = 0.6, strata = voter_turnout_2020)\n",
    "train_set <- training(turnout_split)\n",
    "test_set <- testing(turnout_split)\n",
    "\n",
    "# Then we create a vector that allocates each observation to one of k = 10 folds\n",
    "k = 10\n",
    "n <- nrow(train_set)\n",
    "folds <- sample(rep(1:k, length = n))\n",
    "\n",
    "# Create a matrix to store the results\n",
    "cv.errors <- matrix(NA, k, 6, dimnames = list(NULL, paste(1:6)))\n",
    "\n",
    "# Customize the predict function on regsubsets object\n",
    "predict.regsubsets <- function(object, newdata , id, ...) {\n",
    "    form <- as.formula(object$call[[2]])\n",
    "    mat <- model.matrix(form, newdata)\n",
    "    coefi <- coef(object, id = id)\n",
    "    xvars <- names(coefi)\n",
    "    mat[, xvars] %*% coefi\n",
    "}\n",
    "\n",
    "# For each fold\n",
    "for(j in 1:k){\n",
    "  # Fit the model with each subset of predictors on the training part of the fold\n",
    "  best.fit=regsubsets(voter_turnout_2020~.,data=train_set[folds!=j,], method = \"forward\", nvmax=6) \n",
    "  # For each subset\n",
    "  for(i in 1:6){\n",
    "    # Predict on the hold out part of the fold for that subset\n",
    "    pred=predict.regsubsets(best.fit, train_set[folds==j,],id=i)\n",
    "    # Get the mean squared error for the model trained on the fold with the subset\n",
    "    cv.errors[j,i]=mean((train_set$voter_turnout_2020[folds==j]-pred)^2)\n",
    "  }\n",
    "}\n",
    "\n",
    "cat((\"Table 3: The test MSE for the 10 cross-validation fold for the best ith variable model\"))\n",
    "head(cv.errors, 3)"
   ]
  },
  {
   "cell_type": "code",
   "execution_count": 3,
   "id": "441d142e",
   "metadata": {},
   "outputs": [
    {
     "name": "stdout",
     "output_type": "stream",
     "text": [
      "Table 4: The cross-validation error mean of the Forward Selection model with different number of variables"
     ]
    },
    {
     "data": {
      "text/html": [
       "<table class=\"dataframe\">\n",
       "<caption>A data.frame: 6 × 2</caption>\n",
       "<thead>\n",
       "\t<tr><th scope=col>Number_of_variables</th><th scope=col>cv_error_mean</th></tr>\n",
       "\t<tr><th scope=col>&lt;fct&gt;</th><th scope=col>&lt;dbl&gt;</th></tr>\n",
       "</thead>\n",
       "<tbody>\n",
       "\t<tr><td>3</td><td>0.0004952911</td></tr>\n",
       "\t<tr><td>4</td><td>0.0005179652</td></tr>\n",
       "\t<tr><td>5</td><td>0.0005410533</td></tr>\n",
       "\t<tr><td>1</td><td>0.0005549721</td></tr>\n",
       "\t<tr><td>6</td><td>0.0006197919</td></tr>\n",
       "\t<tr><td>2</td><td>0.0006437806</td></tr>\n",
       "</tbody>\n",
       "</table>\n"
      ],
      "text/latex": [
       "A data.frame: 6 × 2\n",
       "\\begin{tabular}{ll}\n",
       " Number\\_of\\_variables & cv\\_error\\_mean\\\\\n",
       " <fct> & <dbl>\\\\\n",
       "\\hline\n",
       "\t 3 & 0.0004952911\\\\\n",
       "\t 4 & 0.0005179652\\\\\n",
       "\t 5 & 0.0005410533\\\\\n",
       "\t 1 & 0.0005549721\\\\\n",
       "\t 6 & 0.0006197919\\\\\n",
       "\t 2 & 0.0006437806\\\\\n",
       "\\end{tabular}\n"
      ],
      "text/markdown": [
       "\n",
       "A data.frame: 6 × 2\n",
       "\n",
       "| Number_of_variables &lt;fct&gt; | cv_error_mean &lt;dbl&gt; |\n",
       "|---|---|\n",
       "| 3 | 0.0004952911 |\n",
       "| 4 | 0.0005179652 |\n",
       "| 5 | 0.0005410533 |\n",
       "| 1 | 0.0005549721 |\n",
       "| 6 | 0.0006197919 |\n",
       "| 2 | 0.0006437806 |\n",
       "\n"
      ],
      "text/plain": [
       "  Number_of_variables cv_error_mean\n",
       "1 3                   0.0004952911 \n",
       "2 4                   0.0005179652 \n",
       "3 5                   0.0005410533 \n",
       "4 1                   0.0005549721 \n",
       "5 6                   0.0006197919 \n",
       "6 2                   0.0006437806 "
      ]
     },
     "metadata": {},
     "output_type": "display_data"
    }
   ],
   "source": [
    "mean.cv.errors <- apply(cv.errors, 2, mean)\n",
    "meanCVE = as.data.frame(as.table(mean.cv.errors))\n",
    "colnames(meanCVE) <- c(\"Number_of_variables\", \"cv_error_mean\")\n",
    "\n",
    "cat((\"Table 4: The cross-validation error mean of the Forward Selection model with different number of variables\"))\n",
    "arrange(meanCVE, cv_error_mean)"
   ]
  },
  {
   "cell_type": "code",
   "execution_count": 4,
   "id": "8b2987f6",
   "metadata": {},
   "outputs": [
    {
     "name": "stdout",
     "output_type": "stream",
     "text": [
      "Table 5: RMSE corresponding to the Forward Selection method"
     ]
    },
    {
     "data": {
      "text/html": [
       "<table class=\"dataframe\">\n",
       "<caption>A tibble: 1 × 2</caption>\n",
       "<thead>\n",
       "\t<tr><th scope=col>Method</th><th scope=col>RMSE</th></tr>\n",
       "\t<tr><th scope=col>&lt;chr&gt;</th><th scope=col>&lt;dbl&gt;</th></tr>\n",
       "</thead>\n",
       "<tbody>\n",
       "\t<tr><td>Forward Selection</td><td>0.02225514</td></tr>\n",
       "</tbody>\n",
       "</table>\n"
      ],
      "text/latex": [
       "A tibble: 1 × 2\n",
       "\\begin{tabular}{ll}\n",
       " Method & RMSE\\\\\n",
       " <chr> & <dbl>\\\\\n",
       "\\hline\n",
       "\t Forward Selection & 0.02225514\\\\\n",
       "\\end{tabular}\n"
      ],
      "text/markdown": [
       "\n",
       "A tibble: 1 × 2\n",
       "\n",
       "| Method &lt;chr&gt; | RMSE &lt;dbl&gt; |\n",
       "|---|---|\n",
       "| Forward Selection | 0.02225514 |\n",
       "\n"
      ],
      "text/plain": [
       "  Method            RMSE      \n",
       "1 Forward Selection 0.02225514"
      ]
     },
     "metadata": {},
     "output_type": "display_data"
    }
   ],
   "source": [
    "RMSE_models <- tibble(\n",
    "  Method = \"Forward Selection\",\n",
    "  RMSE = min(mean.cv.errors)^0.5\n",
    ")\n",
    "cat((\"Table 5: RMSE corresponding to the Forward Selection method\"))\n",
    "RMSE_models"
   ]
  },
  {
   "cell_type": "markdown",
   "id": "7069cf16",
   "metadata": {},
   "source": [
    "### Ridge Regression"
   ]
  },
  {
   "cell_type": "code",
   "execution_count": 5,
   "id": "a0dd6de4",
   "metadata": {},
   "outputs": [
    {
     "data": {
      "text/plain": [
       "\n",
       "Call:  cv.glmnet(x = X_train, y = Y_train, lambda = exp(seq(-5, 10,      0.1)), alpha = 0) \n",
       "\n",
       "Measure: Mean-Squared Error \n",
       "\n",
       "      Lambda Index   Measure        SE Nonzero\n",
       "min 0.006738   151 0.0004425 0.0001095       6\n",
       "1se 0.016573   142 0.0005493 0.0001126       6"
      ]
     },
     "metadata": {},
     "output_type": "display_data"
    }
   ],
   "source": [
    "# Build matrix and vector required by `cv.glmnet`\n",
    "X_train <- model.matrix(object = voter_turnout_2020 ~ .,\n",
    "  data = train_set)[, -1]\n",
    "\n",
    "Y_train <- train_set[[\"voter_turnout_2020\"]]\n",
    "\n",
    "X_test <- model.matrix(object = voter_turnout_2020 ~ .,\n",
    "  data = test_set)[, -1]\n",
    "\n",
    "Y_test <- test_set[[\"voter_turnout_2020\"]]\n",
    "\n",
    "# Use cross-validation to tune the parameter and fit the ridge model\n",
    "cv_lambda_ridge <- cv.glmnet(\n",
    "  x = X_train, y = Y_train,\n",
    "  alpha = 0,\n",
    "  lambda = exp(seq(-5, 10, 0.1)) \n",
    "    #standardize = TRUE : the default setting that helps standardize the predictors\n",
    ")\n",
    "cv_lambda_ridge"
   ]
  },
  {
   "cell_type": "code",
   "execution_count": 10,
   "id": "b3e94a89",
   "metadata": {},
   "outputs": [
    {
     "name": "stdout",
     "output_type": "stream",
     "text": [
      "Table 6: RMSE corresponding to the Forward Selection and the Ridge Regression Model"
     ]
    },
    {
     "data": {
      "text/html": [
       "<table class=\"dataframe\">\n",
       "<caption>A tibble: 4 × 2</caption>\n",
       "<thead>\n",
       "\t<tr><th scope=col>Method</th><th scope=col>RMSE</th></tr>\n",
       "\t<tr><th scope=col>&lt;chr&gt;</th><th scope=col>&lt;chr&gt;</th></tr>\n",
       "</thead>\n",
       "<tbody>\n",
       "\t<tr><td>Forward Selection       </td><td>0.0222551372154188</td></tr>\n",
       "\t<tr><td>Ridge                   </td><td>0.0210359391048723</td></tr>\n",
       "\t<tr><td>Forward Selection (test)</td><td>0.02616206429643  </td></tr>\n",
       "\t<tr><td>Ridge                   </td><td>0.0210359391048723</td></tr>\n",
       "</tbody>\n",
       "</table>\n"
      ],
      "text/latex": [
       "A tibble: 4 × 2\n",
       "\\begin{tabular}{ll}\n",
       " Method & RMSE\\\\\n",
       " <chr> & <chr>\\\\\n",
       "\\hline\n",
       "\t Forward Selection        & 0.0222551372154188\\\\\n",
       "\t Ridge                    & 0.0210359391048723\\\\\n",
       "\t Forward Selection (test) & 0.02616206429643  \\\\\n",
       "\t Ridge                    & 0.0210359391048723\\\\\n",
       "\\end{tabular}\n"
      ],
      "text/markdown": [
       "\n",
       "A tibble: 4 × 2\n",
       "\n",
       "| Method &lt;chr&gt; | RMSE &lt;chr&gt; |\n",
       "|---|---|\n",
       "| Forward Selection        | 0.0222551372154188 |\n",
       "| Ridge                    | 0.0210359391048723 |\n",
       "| Forward Selection (test) | 0.02616206429643   |\n",
       "| Ridge                    | 0.0210359391048723 |\n",
       "\n"
      ],
      "text/plain": [
       "  Method                   RMSE              \n",
       "1 Forward Selection        0.0222551372154188\n",
       "2 Ridge                    0.0210359391048723\n",
       "3 Forward Selection (test) 0.02616206429643  \n",
       "4 Ridge                    0.0210359391048723"
      ]
     },
     "metadata": {},
     "output_type": "display_data"
    }
   ],
   "source": [
    "RMSE_models <- RMSE_models |>\n",
    "    rbind(c(\"Ridge\", min(cv_lambda_ridge$cvm)^0.5))\n",
    "cat((\"Table 6: RMSE corresponding to the Forward Selection and the Ridge Regression Model\"))\n",
    "RMSE_models"
   ]
  },
  {
   "cell_type": "code",
   "execution_count": 7,
   "id": "0820e333",
   "metadata": {},
   "outputs": [
    {
     "data": {
      "text/plain": [
       "\n",
       "Call:\n",
       "lm(formula = voter_turnout_2020 ~ ., data = training_subset)\n",
       "\n",
       "Residuals:\n",
       "      Min        1Q    Median        3Q       Max \n",
       "-0.047875 -0.009561  0.002443  0.010276  0.042989 \n",
       "\n",
       "Coefficients:\n",
       "                    Estimate Std. Error t value Pr(>|t|)    \n",
       "(Intercept)        -0.032954   0.076491  -0.431   0.6700    \n",
       "education_index     0.003576   0.001393   2.567   0.0161 *  \n",
       "voter_turnout_2016  0.741650   0.065454  11.331 9.12e-12 ***\n",
       "---\n",
       "Signif. codes:  0 ‘***’ 0.001 ‘**’ 0.01 ‘*’ 0.05 ‘.’ 0.1 ‘ ’ 1\n",
       "\n",
       "Residual standard error: 0.01991 on 27 degrees of freedom\n",
       "Multiple R-squared:  0.9154,\tAdjusted R-squared:  0.9091 \n",
       "F-statistic:   146 on 2 and 27 DF,  p-value: 3.321e-15\n"
      ]
     },
     "metadata": {},
     "output_type": "display_data"
    }
   ],
   "source": [
    "reg.best <- regsubsets(voter_turnout_2020 ~ ., data = train_set, nvmax = 6)\n",
    "\n",
    "selected_var <- names(coef(reg.best, 2))[-1]\n",
    "\n",
    "training_subset <- train_set %>% select(all_of(selected_var), voter_turnout_2020)\n",
    "\n",
    "red_OLS <- lm(voter_turnout_2020 ~ ., data = training_subset)\n",
    "summary(red_OLS)"
   ]
  },
  {
   "cell_type": "code",
   "execution_count": 8,
   "id": "74191626",
   "metadata": {},
   "outputs": [
    {
     "name": "stdout",
     "output_type": "stream",
     "text": [
      "Table 7: RMSE corresponding to diverse models"
     ]
    },
    {
     "data": {
      "text/html": [
       "<table class=\"dataframe\">\n",
       "<caption>A tibble: 3 × 2</caption>\n",
       "<thead>\n",
       "\t<tr><th scope=col>Method</th><th scope=col>RMSE</th></tr>\n",
       "\t<tr><th scope=col>&lt;chr&gt;</th><th scope=col>&lt;chr&gt;</th></tr>\n",
       "</thead>\n",
       "<tbody>\n",
       "\t<tr><td>Forward Selection       </td><td>0.0222551372154188</td></tr>\n",
       "\t<tr><td>Ridge                   </td><td>0.0210359391048723</td></tr>\n",
       "\t<tr><td>Forward Selection (test)</td><td>0.02616206429643  </td></tr>\n",
       "</tbody>\n",
       "</table>\n"
      ],
      "text/latex": [
       "A tibble: 3 × 2\n",
       "\\begin{tabular}{ll}\n",
       " Method & RMSE\\\\\n",
       " <chr> & <chr>\\\\\n",
       "\\hline\n",
       "\t Forward Selection        & 0.0222551372154188\\\\\n",
       "\t Ridge                    & 0.0210359391048723\\\\\n",
       "\t Forward Selection (test) & 0.02616206429643  \\\\\n",
       "\\end{tabular}\n"
      ],
      "text/markdown": [
       "\n",
       "A tibble: 3 × 2\n",
       "\n",
       "| Method &lt;chr&gt; | RMSE &lt;chr&gt; |\n",
       "|---|---|\n",
       "| Forward Selection        | 0.0222551372154188 |\n",
       "| Ridge                    | 0.0210359391048723 |\n",
       "| Forward Selection (test) | 0.02616206429643   |\n",
       "\n"
      ],
      "text/plain": [
       "  Method                   RMSE              \n",
       "1 Forward Selection        0.0222551372154188\n",
       "2 Ridge                    0.0210359391048723\n",
       "3 Forward Selection (test) 0.02616206429643  "
      ]
     },
     "metadata": {},
     "output_type": "display_data"
    }
   ],
   "source": [
    "test_pred_red_OLS <- predict(red_OLS, newdata = test_set)\n",
    "\n",
    "rmse_val <- sqrt(mean((test_pred_red_OLS - test_set$voter_turnout_2020)^2))\n",
    "\n",
    "RMSE_models <- RMSE_models |>\n",
    "    rbind(c(\"Forward Selection (test)\",rmse_val))\n",
    "\n",
    "cat((\"Table 7: RMSE corresponding to diverse models\"))\n",
    "RMSE_models"
   ]
  },
  {
   "cell_type": "code",
   "execution_count": 9,
   "id": "96735d83",
   "metadata": {},
   "outputs": [
    {
     "data": {
      "image/png": "[encoded data removed]",
      "text/plain": [
       "plot without title"
      ]
     },
     "metadata": {
      "image/png": {
       "height": 300,
       "width": 360
      }
     },
     "output_type": "display_data"
    }
   ],
   "source": [
    "options(repr.plot.width=6, repr.plot.height=5)\n",
    "\n",
    "ggplot(data = test_set, aes(x = voter_turnout_2020, y = test_pred_red_OLS)) + \n",
    "  geom_point() + \n",
    "  geom_abline(slope = 1, intercept = 0, color = \"red\") +\n",
    "  labs(title = \"Figure 3: Predicted vs. Actual Voter Turnout\", x = \"Actual Score\", y = \"Predicted Score\")\n",
    "     "
   ]
  }
 ],
 "metadata": {
  "kernelspec": {
   "display_name": "R",
   "language": "R",
   "name": "ir"
  },
  "language_info": {
   "codemirror_mode": "r",
   "file_extension": ".r",
   "mimetype": "text/x-r-source",
   "name": "R",
   "pygments_lexer": "r",
   "version": "4.3.2"
  }
 },
 "nbformat": 4,
 "nbformat_minor": 5
}
